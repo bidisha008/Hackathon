{
 "cells": [
  {
   "cell_type": "code",
   "execution_count": 1,
   "metadata": {},
   "outputs": [],
   "source": [
    "import pandas as pd\n",
    "import numpy as np\n",
    "import matplotlib.pyplot as plt\n",
    "import seaborn as sns\n",
    "%matplotlib inline"
   ]
  },
  {
   "cell_type": "code",
   "execution_count": 2,
   "metadata": {},
   "outputs": [],
   "source": [
    "df_train=pd.read_csv(r'C:\\Users\\Bidisha\\Desktop\\hackathon\\Final\\Train.csv')"
   ]
  },
  {
   "cell_type": "code",
   "execution_count": 3,
   "metadata": {},
   "outputs": [
    {
     "data": {
      "text/html": [
       "<div>\n",
       "<style scoped>\n",
       "    .dataframe tbody tr th:only-of-type {\n",
       "        vertical-align: middle;\n",
       "    }\n",
       "\n",
       "    .dataframe tbody tr th {\n",
       "        vertical-align: top;\n",
       "    }\n",
       "\n",
       "    .dataframe thead th {\n",
       "        text-align: right;\n",
       "    }\n",
       "</style>\n",
       "<table border=\"1\" class=\"dataframe\">\n",
       "  <thead>\n",
       "    <tr style=\"text-align: right;\">\n",
       "      <th></th>\n",
       "      <th>customer_id</th>\n",
       "      <th>seller_id</th>\n",
       "      <th>order_checkout_date</th>\n",
       "      <th>delivery_eta</th>\n",
       "      <th>shipping_charges</th>\n",
       "      <th>product_category_code</th>\n",
       "      <th>X_1</th>\n",
       "      <th>X_2</th>\n",
       "      <th>product_quality_type</th>\n",
       "      <th>product_mass</th>\n",
       "      <th>product_length</th>\n",
       "      <th>product_height</th>\n",
       "      <th>product_breadth</th>\n",
       "      <th>payment_emi_years(max)</th>\n",
       "      <th>price</th>\n",
       "      <th>order_status</th>\n",
       "      <th>transaction_type</th>\n",
       "      <th>coupon_code</th>\n",
       "      <th>payment_code</th>\n",
       "    </tr>\n",
       "  </thead>\n",
       "  <tbody>\n",
       "    <tr>\n",
       "      <th>0</th>\n",
       "      <td>0a29abf475fb8039d2775913d6f0b6f0</td>\n",
       "      <td>48436dade18ac8b2bce089ec2a041202</td>\n",
       "      <td>2017-08-05 16:59:05</td>\n",
       "      <td>2017-09-06 00:00:00</td>\n",
       "      <td>18.12</td>\n",
       "      <td>27.0</td>\n",
       "      <td>58.0</td>\n",
       "      <td>598.0</td>\n",
       "      <td>D</td>\n",
       "      <td>650</td>\n",
       "      <td>28</td>\n",
       "      <td>9</td>\n",
       "      <td>14</td>\n",
       "      <td>1.0</td>\n",
       "      <td>153.75</td>\n",
       "      <td>E</td>\n",
       "      <td>1</td>\n",
       "      <td>CLOTH20</td>\n",
       "      <td>GPAY20</td>\n",
       "    </tr>\n",
       "    <tr>\n",
       "      <th>1</th>\n",
       "      <td>903ac1be571f2dc655f9083ffc936ce6</td>\n",
       "      <td>5b51032eddd242adc84c38acab88f23d</td>\n",
       "      <td>2017-10-30 15:35:32</td>\n",
       "      <td>2017-11-24 00:00:00</td>\n",
       "      <td>20.08</td>\n",
       "      <td>55.0</td>\n",
       "      <td>59.0</td>\n",
       "      <td>695.0</td>\n",
       "      <td>B</td>\n",
       "      <td>3050</td>\n",
       "      <td>33</td>\n",
       "      <td>13</td>\n",
       "      <td>33</td>\n",
       "      <td>1.0</td>\n",
       "      <td>388.17</td>\n",
       "      <td>E</td>\n",
       "      <td>3</td>\n",
       "      <td>CLOTH20</td>\n",
       "      <td>CITI10</td>\n",
       "    </tr>\n",
       "    <tr>\n",
       "      <th>2</th>\n",
       "      <td>bfadadd0d97f4c52f859c1c4d809edf9</td>\n",
       "      <td>4a3ca9315b744ce9f8e9374361493884</td>\n",
       "      <td>2017-11-04 12:03:25</td>\n",
       "      <td>2017-11-30 00:00:00</td>\n",
       "      <td>2.29</td>\n",
       "      <td>14.0</td>\n",
       "      <td>54.0</td>\n",
       "      <td>245.0</td>\n",
       "      <td>A</td>\n",
       "      <td>1383</td>\n",
       "      <td>50</td>\n",
       "      <td>10</td>\n",
       "      <td>40</td>\n",
       "      <td>1.0</td>\n",
       "      <td>216.72</td>\n",
       "      <td>E</td>\n",
       "      <td>1</td>\n",
       "      <td>CLOTH20</td>\n",
       "      <td>GPAY20</td>\n",
       "    </tr>\n",
       "    <tr>\n",
       "      <th>3</th>\n",
       "      <td>6c9e6937792cc04d9bb23451e0ff9f48</td>\n",
       "      <td>4a3ca9315b744ce9f8e9374361493884</td>\n",
       "      <td>2017-06-15 11:46:47</td>\n",
       "      <td>2017-07-10 00:00:00</td>\n",
       "      <td>1.86</td>\n",
       "      <td>14.0</td>\n",
       "      <td>54.0</td>\n",
       "      <td>245.0</td>\n",
       "      <td>A</td>\n",
       "      <td>1383</td>\n",
       "      <td>50</td>\n",
       "      <td>10</td>\n",
       "      <td>40</td>\n",
       "      <td>1.0</td>\n",
       "      <td>228.95</td>\n",
       "      <td>E</td>\n",
       "      <td>1</td>\n",
       "      <td>CLOTH15</td>\n",
       "      <td>CITI10</td>\n",
       "    </tr>\n",
       "    <tr>\n",
       "      <th>4</th>\n",
       "      <td>906e77e04c502baf17ad58162217da39</td>\n",
       "      <td>4a3ca9315b744ce9f8e9374361493884</td>\n",
       "      <td>2018-01-03 09:14:25</td>\n",
       "      <td>2018-01-31 00:00:00</td>\n",
       "      <td>15.57</td>\n",
       "      <td>14.0</td>\n",
       "      <td>54.0</td>\n",
       "      <td>245.0</td>\n",
       "      <td>A</td>\n",
       "      <td>1383</td>\n",
       "      <td>50</td>\n",
       "      <td>10</td>\n",
       "      <td>40</td>\n",
       "      <td>1.0</td>\n",
       "      <td>243.51</td>\n",
       "      <td>E</td>\n",
       "      <td>2</td>\n",
       "      <td>CLOTH15</td>\n",
       "      <td>CITI10</td>\n",
       "    </tr>\n",
       "  </tbody>\n",
       "</table>\n",
       "</div>"
      ],
      "text/plain": [
       "                        customer_id                         seller_id  \\\n",
       "0  0a29abf475fb8039d2775913d6f0b6f0  48436dade18ac8b2bce089ec2a041202   \n",
       "1  903ac1be571f2dc655f9083ffc936ce6  5b51032eddd242adc84c38acab88f23d   \n",
       "2  bfadadd0d97f4c52f859c1c4d809edf9  4a3ca9315b744ce9f8e9374361493884   \n",
       "3  6c9e6937792cc04d9bb23451e0ff9f48  4a3ca9315b744ce9f8e9374361493884   \n",
       "4  906e77e04c502baf17ad58162217da39  4a3ca9315b744ce9f8e9374361493884   \n",
       "\n",
       "   order_checkout_date         delivery_eta  shipping_charges  \\\n",
       "0  2017-08-05 16:59:05  2017-09-06 00:00:00             18.12   \n",
       "1  2017-10-30 15:35:32  2017-11-24 00:00:00             20.08   \n",
       "2  2017-11-04 12:03:25  2017-11-30 00:00:00              2.29   \n",
       "3  2017-06-15 11:46:47  2017-07-10 00:00:00              1.86   \n",
       "4  2018-01-03 09:14:25  2018-01-31 00:00:00             15.57   \n",
       "\n",
       "   product_category_code   X_1    X_2 product_quality_type  product_mass  \\\n",
       "0                   27.0  58.0  598.0                    D           650   \n",
       "1                   55.0  59.0  695.0                    B          3050   \n",
       "2                   14.0  54.0  245.0                    A          1383   \n",
       "3                   14.0  54.0  245.0                    A          1383   \n",
       "4                   14.0  54.0  245.0                    A          1383   \n",
       "\n",
       "   product_length  product_height  product_breadth  payment_emi_years(max)  \\\n",
       "0              28               9               14                     1.0   \n",
       "1              33              13               33                     1.0   \n",
       "2              50              10               40                     1.0   \n",
       "3              50              10               40                     1.0   \n",
       "4              50              10               40                     1.0   \n",
       "\n",
       "    price order_status  transaction_type coupon_code payment_code  \n",
       "0  153.75            E                 1     CLOTH20       GPAY20  \n",
       "1  388.17            E                 3     CLOTH20       CITI10  \n",
       "2  216.72            E                 1     CLOTH20       GPAY20  \n",
       "3  228.95            E                 1     CLOTH15       CITI10  \n",
       "4  243.51            E                 2     CLOTH15       CITI10  "
      ]
     },
     "execution_count": 3,
     "metadata": {},
     "output_type": "execute_result"
    }
   ],
   "source": [
    "df_train.head()"
   ]
  },
  {
   "cell_type": "code",
   "execution_count": 4,
   "metadata": {},
   "outputs": [
    {
     "data": {
      "text/html": [
       "<div>\n",
       "<style scoped>\n",
       "    .dataframe tbody tr th:only-of-type {\n",
       "        vertical-align: middle;\n",
       "    }\n",
       "\n",
       "    .dataframe tbody tr th {\n",
       "        vertical-align: top;\n",
       "    }\n",
       "\n",
       "    .dataframe thead th {\n",
       "        text-align: right;\n",
       "    }\n",
       "</style>\n",
       "<table border=\"1\" class=\"dataframe\">\n",
       "  <thead>\n",
       "    <tr style=\"text-align: right;\">\n",
       "      <th></th>\n",
       "      <th>shipping_charges</th>\n",
       "      <th>product_category_code</th>\n",
       "      <th>X_1</th>\n",
       "      <th>X_2</th>\n",
       "      <th>product_mass</th>\n",
       "      <th>product_length</th>\n",
       "      <th>product_height</th>\n",
       "      <th>product_breadth</th>\n",
       "      <th>payment_emi_years(max)</th>\n",
       "      <th>price</th>\n",
       "      <th>transaction_type</th>\n",
       "    </tr>\n",
       "  </thead>\n",
       "  <tbody>\n",
       "    <tr>\n",
       "      <th>count</th>\n",
       "      <td>7995.000000</td>\n",
       "      <td>7986.000000</td>\n",
       "      <td>7871.000000</td>\n",
       "      <td>7871.000000</td>\n",
       "      <td>8009.000000</td>\n",
       "      <td>8009.000000</td>\n",
       "      <td>8009.000000</td>\n",
       "      <td>8009.000000</td>\n",
       "      <td>7994.000000</td>\n",
       "      <td>7999.000000</td>\n",
       "      <td>8009.000000</td>\n",
       "    </tr>\n",
       "    <tr>\n",
       "      <th>mean</th>\n",
       "      <td>17.528816</td>\n",
       "      <td>35.446406</td>\n",
       "      <td>49.355609</td>\n",
       "      <td>657.180282</td>\n",
       "      <td>1518.710201</td>\n",
       "      <td>29.528031</td>\n",
       "      <td>14.410788</td>\n",
       "      <td>23.788238</td>\n",
       "      <td>1.019264</td>\n",
       "      <td>127.189734</td>\n",
       "      <td>2.791859</td>\n",
       "    </tr>\n",
       "    <tr>\n",
       "      <th>std</th>\n",
       "      <td>11.230212</td>\n",
       "      <td>21.561223</td>\n",
       "      <td>9.540988</td>\n",
       "      <td>480.678441</td>\n",
       "      <td>2230.299606</td>\n",
       "      <td>13.956180</td>\n",
       "      <td>9.135349</td>\n",
       "      <td>11.295288</td>\n",
       "      <td>0.204122</td>\n",
       "      <td>118.208656</td>\n",
       "      <td>2.571943</td>\n",
       "    </tr>\n",
       "    <tr>\n",
       "      <th>min</th>\n",
       "      <td>0.000000</td>\n",
       "      <td>0.000000</td>\n",
       "      <td>8.000000</td>\n",
       "      <td>41.000000</td>\n",
       "      <td>50.000000</td>\n",
       "      <td>11.000000</td>\n",
       "      <td>2.000000</td>\n",
       "      <td>7.000000</td>\n",
       "      <td>1.000000</td>\n",
       "      <td>10.000000</td>\n",
       "      <td>1.000000</td>\n",
       "    </tr>\n",
       "    <tr>\n",
       "      <th>25%</th>\n",
       "      <td>12.130000</td>\n",
       "      <td>14.000000</td>\n",
       "      <td>44.000000</td>\n",
       "      <td>340.000000</td>\n",
       "      <td>250.000000</td>\n",
       "      <td>18.000000</td>\n",
       "      <td>10.000000</td>\n",
       "      <td>14.000000</td>\n",
       "      <td>1.000000</td>\n",
       "      <td>64.000000</td>\n",
       "      <td>1.000000</td>\n",
       "    </tr>\n",
       "    <tr>\n",
       "      <th>50%</th>\n",
       "      <td>15.380000</td>\n",
       "      <td>34.000000</td>\n",
       "      <td>52.000000</td>\n",
       "      <td>519.000000</td>\n",
       "      <td>800.000000</td>\n",
       "      <td>25.000000</td>\n",
       "      <td>12.000000</td>\n",
       "      <td>20.000000</td>\n",
       "      <td>1.000000</td>\n",
       "      <td>94.480000</td>\n",
       "      <td>1.000000</td>\n",
       "    </tr>\n",
       "    <tr>\n",
       "      <th>75%</th>\n",
       "      <td>19.650000</td>\n",
       "      <td>55.000000</td>\n",
       "      <td>58.000000</td>\n",
       "      <td>903.000000</td>\n",
       "      <td>1750.000000</td>\n",
       "      <td>40.000000</td>\n",
       "      <td>20.000000</td>\n",
       "      <td>30.000000</td>\n",
       "      <td>1.000000</td>\n",
       "      <td>144.925000</td>\n",
       "      <td>4.000000</td>\n",
       "    </tr>\n",
       "    <tr>\n",
       "      <th>max</th>\n",
       "      <td>147.320000</td>\n",
       "      <td>73.000000</td>\n",
       "      <td>64.000000</td>\n",
       "      <td>3890.000000</td>\n",
       "      <td>23800.000000</td>\n",
       "      <td>105.000000</td>\n",
       "      <td>105.000000</td>\n",
       "      <td>92.000000</td>\n",
       "      <td>10.000000</td>\n",
       "      <td>1972.030000</td>\n",
       "      <td>24.000000</td>\n",
       "    </tr>\n",
       "  </tbody>\n",
       "</table>\n",
       "</div>"
      ],
      "text/plain": [
       "       shipping_charges  product_category_code          X_1          X_2  \\\n",
       "count       7995.000000            7986.000000  7871.000000  7871.000000   \n",
       "mean          17.528816              35.446406    49.355609   657.180282   \n",
       "std           11.230212              21.561223     9.540988   480.678441   \n",
       "min            0.000000               0.000000     8.000000    41.000000   \n",
       "25%           12.130000              14.000000    44.000000   340.000000   \n",
       "50%           15.380000              34.000000    52.000000   519.000000   \n",
       "75%           19.650000              55.000000    58.000000   903.000000   \n",
       "max          147.320000              73.000000    64.000000  3890.000000   \n",
       "\n",
       "       product_mass  product_length  product_height  product_breadth  \\\n",
       "count   8009.000000     8009.000000     8009.000000      8009.000000   \n",
       "mean    1518.710201       29.528031       14.410788        23.788238   \n",
       "std     2230.299606       13.956180        9.135349        11.295288   \n",
       "min       50.000000       11.000000        2.000000         7.000000   \n",
       "25%      250.000000       18.000000       10.000000        14.000000   \n",
       "50%      800.000000       25.000000       12.000000        20.000000   \n",
       "75%     1750.000000       40.000000       20.000000        30.000000   \n",
       "max    23800.000000      105.000000      105.000000        92.000000   \n",
       "\n",
       "       payment_emi_years(max)        price  transaction_type  \n",
       "count             7994.000000  7999.000000       8009.000000  \n",
       "mean                 1.019264   127.189734          2.791859  \n",
       "std                  0.204122   118.208656          2.571943  \n",
       "min                  1.000000    10.000000          1.000000  \n",
       "25%                  1.000000    64.000000          1.000000  \n",
       "50%                  1.000000    94.480000          1.000000  \n",
       "75%                  1.000000   144.925000          4.000000  \n",
       "max                 10.000000  1972.030000         24.000000  "
      ]
     },
     "execution_count": 4,
     "metadata": {},
     "output_type": "execute_result"
    }
   ],
   "source": [
    "df_train.describe()"
   ]
  },
  {
   "cell_type": "code",
   "execution_count": 5,
   "metadata": {},
   "outputs": [
    {
     "data": {
      "text/plain": [
       "<matplotlib.axes._subplots.AxesSubplot at 0x294dd029dc0>"
      ]
     },
     "execution_count": 5,
     "metadata": {},
     "output_type": "execute_result"
    },
    {
     "data": {
      "image/png": "[encoded data removed]",
      "text/plain": [
       "<Figure size 432x288 with 1 Axes>"
      ]
     },
     "metadata": {
      "needs_background": "light"
     },
     "output_type": "display_data"
    }
   ],
   "source": [
    "sns.countplot(x=df_train.payment_code)"
   ]
  },
  {
   "cell_type": "code",
   "execution_count": 6,
   "metadata": {},
   "outputs": [
    {
     "data": {
      "text/plain": [
       "<matplotlib.axes._subplots.AxesSubplot at 0x294dd7636d0>"
      ]
     },
     "execution_count": 6,
     "metadata": {},
     "output_type": "execute_result"
    },
    {
     "data": {
      "image/png": "[encoded data removed]",
      "text/plain": [
       "<Figure size 432x288 with 1 Axes>"
      ]
     },
     "metadata": {
      "needs_background": "light"
     },
     "output_type": "display_data"
    }
   ],
   "source": [
    "sns.countplot(x=df_train.coupon_code)"
   ]
  },
  {
   "cell_type": "code",
   "execution_count": 7,
   "metadata": {},
   "outputs": [
    {
     "data": {
      "text/plain": [
       "customer_id               0.000000\n",
       "seller_id                 0.000000\n",
       "order_checkout_date       0.000000\n",
       "delivery_eta              0.000000\n",
       "shipping_charges          0.174803\n",
       "product_category_code     0.287177\n",
       "X_1                       1.723062\n",
       "X_2                       1.723062\n",
       "product_quality_type      1.723062\n",
       "product_mass              0.000000\n",
       "product_length            0.000000\n",
       "product_height            0.000000\n",
       "product_breadth           0.000000\n",
       "payment_emi_years(max)    0.187289\n",
       "price                     0.124860\n",
       "order_status              0.000000\n",
       "transaction_type          0.000000\n",
       "coupon_code               0.000000\n",
       "payment_code              0.000000\n",
       "dtype: float64"
      ]
     },
     "execution_count": 7,
     "metadata": {},
     "output_type": "execute_result"
    }
   ],
   "source": [
    "(df_train.isnull().sum()/df_train.shape[0])*100                      #percentage of null values in each column "
   ]
  },
  {
   "cell_type": "code",
   "execution_count": 8,
   "metadata": {},
   "outputs": [],
   "source": [
    "#Replacing the null values\n",
    "val_X1=np.mean(df_train.X_1)\n",
    "val_X2=np.mean(df_train.X_2)\n",
    "df_train.X_1.fillna(val_X1,axis=0,inplace=True)\n",
    "df_train.X_2.fillna(val_X2,axis=0,inplace=True)\n",
    "df_train.product_quality_type.fillna(method='ffill',axis=0,inplace=True)\n",
    "df_train.dropna(axis=0,inplace=True)"
   ]
  },
  {
   "cell_type": "code",
   "execution_count": 9,
   "metadata": {},
   "outputs": [],
   "source": [
    "df_train['Volume']=df_train.product_breadth*df_train.product_height*df_train.product_length          #Calculating Volume "
   ]
  },
  {
   "cell_type": "code",
   "execution_count": 10,
   "metadata": {},
   "outputs": [],
   "source": [
    "df_train.drop(['product_breadth','product_height','product_length'],axis=1,inplace=True)"
   ]
  },
  {
   "cell_type": "code",
   "execution_count": 11,
   "metadata": {},
   "outputs": [
    {
     "data": {
      "text/plain": [
       "Index(['customer_id', 'seller_id', 'order_checkout_date', 'delivery_eta',\n",
       "       'shipping_charges', 'product_category_code', 'X_1', 'X_2',\n",
       "       'product_quality_type', 'product_mass', 'payment_emi_years(max)',\n",
       "       'price', 'order_status', 'transaction_type', 'coupon_code',\n",
       "       'payment_code', 'Volume'],\n",
       "      dtype='object')"
      ]
     },
     "execution_count": 11,
     "metadata": {},
     "output_type": "execute_result"
    }
   ],
   "source": [
    "df_train.columns"
   ]
  },
  {
   "cell_type": "code",
   "execution_count": 12,
   "metadata": {
    "scrolled": true
   },
   "outputs": [
    {
     "data": {
      "text/plain": [
       "customer_id                object\n",
       "seller_id                  object\n",
       "order_checkout_date        object\n",
       "delivery_eta               object\n",
       "shipping_charges          float64\n",
       "product_category_code     float64\n",
       "X_1                       float64\n",
       "X_2                       float64\n",
       "product_quality_type       object\n",
       "product_mass                int64\n",
       "payment_emi_years(max)    float64\n",
       "price                     float64\n",
       "order_status               object\n",
       "transaction_type            int64\n",
       "coupon_code                object\n",
       "payment_code               object\n",
       "Volume                      int64\n",
       "dtype: object"
      ]
     },
     "execution_count": 12,
     "metadata": {},
     "output_type": "execute_result"
    }
   ],
   "source": [
    "df_train.dtypes"
   ]
  },
  {
   "cell_type": "code",
   "execution_count": 13,
   "metadata": {},
   "outputs": [],
   "source": [
    "df_train[['product_category_code','transaction_type']]=df_train[['product_category_code','transaction_type']].astype('str')\n",
    "    "
   ]
  },
  {
   "cell_type": "code",
   "execution_count": 14,
   "metadata": {},
   "outputs": [
    {
     "data": {
      "text/plain": [
       "customer_id               7947\n",
       "seller_id                  503\n",
       "order_checkout_date       7940\n",
       "delivery_eta               400\n",
       "shipping_charges          1926\n",
       "product_category_code       52\n",
       "X_1                         51\n",
       "X_2                        721\n",
       "product_quality_type        12\n",
       "product_mass               319\n",
       "payment_emi_years(max)       8\n",
       "price                     3673\n",
       "order_status                 5\n",
       "transaction_type            15\n",
       "coupon_code                  7\n",
       "payment_code                 5\n",
       "Volume                     569\n",
       "dtype: int64"
      ]
     },
     "execution_count": 14,
     "metadata": {},
     "output_type": "execute_result"
    }
   ],
   "source": [
    "df_train.nunique()                   #Number of unique values for each column "
   ]
  },
  {
   "cell_type": "code",
   "execution_count": 15,
   "metadata": {},
   "outputs": [],
   "source": [
    "df_train.order_checkout_date=pd.to_datetime(df_train.order_checkout_date)\n",
    "df_train.delivery_eta=pd.to_datetime(df_train.delivery_eta)"
   ]
  },
  {
   "cell_type": "code",
   "execution_count": 16,
   "metadata": {},
   "outputs": [],
   "source": [
    "#Calculating order to delivery time \n",
    "df_train['Order_To_Delivery_Time']=df_train.delivery_eta.dt.date-df_train.order_checkout_date.dt.date"
   ]
  },
  {
   "cell_type": "code",
   "execution_count": 17,
   "metadata": {},
   "outputs": [
    {
     "data": {
      "text/html": [
       "<div>\n",
       "<style scoped>\n",
       "    .dataframe tbody tr th:only-of-type {\n",
       "        vertical-align: middle;\n",
       "    }\n",
       "\n",
       "    .dataframe tbody tr th {\n",
       "        vertical-align: top;\n",
       "    }\n",
       "\n",
       "    .dataframe thead th {\n",
       "        text-align: right;\n",
       "    }\n",
       "</style>\n",
       "<table border=\"1\" class=\"dataframe\">\n",
       "  <thead>\n",
       "    <tr style=\"text-align: right;\">\n",
       "      <th></th>\n",
       "      <th>customer_id</th>\n",
       "      <th>seller_id</th>\n",
       "      <th>order_checkout_date</th>\n",
       "      <th>delivery_eta</th>\n",
       "      <th>shipping_charges</th>\n",
       "      <th>product_category_code</th>\n",
       "      <th>X_1</th>\n",
       "      <th>X_2</th>\n",
       "      <th>product_quality_type</th>\n",
       "      <th>product_mass</th>\n",
       "      <th>payment_emi_years(max)</th>\n",
       "      <th>price</th>\n",
       "      <th>order_status</th>\n",
       "      <th>transaction_type</th>\n",
       "      <th>coupon_code</th>\n",
       "      <th>payment_code</th>\n",
       "      <th>Volume</th>\n",
       "      <th>Order_To_Delivery_Time</th>\n",
       "    </tr>\n",
       "  </thead>\n",
       "  <tbody>\n",
       "    <tr>\n",
       "      <th>0</th>\n",
       "      <td>0a29abf475fb8039d2775913d6f0b6f0</td>\n",
       "      <td>48436dade18ac8b2bce089ec2a041202</td>\n",
       "      <td>2017-08-05 16:59:05</td>\n",
       "      <td>2017-09-06</td>\n",
       "      <td>18.12</td>\n",
       "      <td>27.0</td>\n",
       "      <td>58.0</td>\n",
       "      <td>598.0</td>\n",
       "      <td>D</td>\n",
       "      <td>650</td>\n",
       "      <td>1.0</td>\n",
       "      <td>153.75</td>\n",
       "      <td>E</td>\n",
       "      <td>1</td>\n",
       "      <td>CLOTH20</td>\n",
       "      <td>GPAY20</td>\n",
       "      <td>3528</td>\n",
       "      <td>32 days</td>\n",
       "    </tr>\n",
       "    <tr>\n",
       "      <th>1</th>\n",
       "      <td>903ac1be571f2dc655f9083ffc936ce6</td>\n",
       "      <td>5b51032eddd242adc84c38acab88f23d</td>\n",
       "      <td>2017-10-30 15:35:32</td>\n",
       "      <td>2017-11-24</td>\n",
       "      <td>20.08</td>\n",
       "      <td>55.0</td>\n",
       "      <td>59.0</td>\n",
       "      <td>695.0</td>\n",
       "      <td>B</td>\n",
       "      <td>3050</td>\n",
       "      <td>1.0</td>\n",
       "      <td>388.17</td>\n",
       "      <td>E</td>\n",
       "      <td>3</td>\n",
       "      <td>CLOTH20</td>\n",
       "      <td>CITI10</td>\n",
       "      <td>14157</td>\n",
       "      <td>25 days</td>\n",
       "    </tr>\n",
       "    <tr>\n",
       "      <th>2</th>\n",
       "      <td>bfadadd0d97f4c52f859c1c4d809edf9</td>\n",
       "      <td>4a3ca9315b744ce9f8e9374361493884</td>\n",
       "      <td>2017-11-04 12:03:25</td>\n",
       "      <td>2017-11-30</td>\n",
       "      <td>2.29</td>\n",
       "      <td>14.0</td>\n",
       "      <td>54.0</td>\n",
       "      <td>245.0</td>\n",
       "      <td>A</td>\n",
       "      <td>1383</td>\n",
       "      <td>1.0</td>\n",
       "      <td>216.72</td>\n",
       "      <td>E</td>\n",
       "      <td>1</td>\n",
       "      <td>CLOTH20</td>\n",
       "      <td>GPAY20</td>\n",
       "      <td>20000</td>\n",
       "      <td>26 days</td>\n",
       "    </tr>\n",
       "    <tr>\n",
       "      <th>3</th>\n",
       "      <td>6c9e6937792cc04d9bb23451e0ff9f48</td>\n",
       "      <td>4a3ca9315b744ce9f8e9374361493884</td>\n",
       "      <td>2017-06-15 11:46:47</td>\n",
       "      <td>2017-07-10</td>\n",
       "      <td>1.86</td>\n",
       "      <td>14.0</td>\n",
       "      <td>54.0</td>\n",
       "      <td>245.0</td>\n",
       "      <td>A</td>\n",
       "      <td>1383</td>\n",
       "      <td>1.0</td>\n",
       "      <td>228.95</td>\n",
       "      <td>E</td>\n",
       "      <td>1</td>\n",
       "      <td>CLOTH15</td>\n",
       "      <td>CITI10</td>\n",
       "      <td>20000</td>\n",
       "      <td>25 days</td>\n",
       "    </tr>\n",
       "    <tr>\n",
       "      <th>4</th>\n",
       "      <td>906e77e04c502baf17ad58162217da39</td>\n",
       "      <td>4a3ca9315b744ce9f8e9374361493884</td>\n",
       "      <td>2018-01-03 09:14:25</td>\n",
       "      <td>2018-01-31</td>\n",
       "      <td>15.57</td>\n",
       "      <td>14.0</td>\n",
       "      <td>54.0</td>\n",
       "      <td>245.0</td>\n",
       "      <td>A</td>\n",
       "      <td>1383</td>\n",
       "      <td>1.0</td>\n",
       "      <td>243.51</td>\n",
       "      <td>E</td>\n",
       "      <td>2</td>\n",
       "      <td>CLOTH15</td>\n",
       "      <td>CITI10</td>\n",
       "      <td>20000</td>\n",
       "      <td>28 days</td>\n",
       "    </tr>\n",
       "  </tbody>\n",
       "</table>\n",
       "</div>"
      ],
      "text/plain": [
       "                        customer_id                         seller_id  \\\n",
       "0  0a29abf475fb8039d2775913d6f0b6f0  48436dade18ac8b2bce089ec2a041202   \n",
       "1  903ac1be571f2dc655f9083ffc936ce6  5b51032eddd242adc84c38acab88f23d   \n",
       "2  bfadadd0d97f4c52f859c1c4d809edf9  4a3ca9315b744ce9f8e9374361493884   \n",
       "3  6c9e6937792cc04d9bb23451e0ff9f48  4a3ca9315b744ce9f8e9374361493884   \n",
       "4  906e77e04c502baf17ad58162217da39  4a3ca9315b744ce9f8e9374361493884   \n",
       "\n",
       "  order_checkout_date delivery_eta  shipping_charges product_category_code  \\\n",
       "0 2017-08-05 16:59:05   2017-09-06             18.12                  27.0   \n",
       "1 2017-10-30 15:35:32   2017-11-24             20.08                  55.0   \n",
       "2 2017-11-04 12:03:25   2017-11-30              2.29                  14.0   \n",
       "3 2017-06-15 11:46:47   2017-07-10              1.86                  14.0   \n",
       "4 2018-01-03 09:14:25   2018-01-31             15.57                  14.0   \n",
       "\n",
       "    X_1    X_2 product_quality_type  product_mass  payment_emi_years(max)  \\\n",
       "0  58.0  598.0                    D           650                     1.0   \n",
       "1  59.0  695.0                    B          3050                     1.0   \n",
       "2  54.0  245.0                    A          1383                     1.0   \n",
       "3  54.0  245.0                    A          1383                     1.0   \n",
       "4  54.0  245.0                    A          1383                     1.0   \n",
       "\n",
       "    price order_status transaction_type coupon_code payment_code  Volume  \\\n",
       "0  153.75            E                1     CLOTH20       GPAY20    3528   \n",
       "1  388.17            E                3     CLOTH20       CITI10   14157   \n",
       "2  216.72            E                1     CLOTH20       GPAY20   20000   \n",
       "3  228.95            E                1     CLOTH15       CITI10   20000   \n",
       "4  243.51            E                2     CLOTH15       CITI10   20000   \n",
       "\n",
       "  Order_To_Delivery_Time  \n",
       "0                32 days  \n",
       "1                25 days  \n",
       "2                26 days  \n",
       "3                25 days  \n",
       "4                28 days  "
      ]
     },
     "execution_count": 17,
     "metadata": {},
     "output_type": "execute_result"
    }
   ],
   "source": [
    "df_train.head()"
   ]
  },
  {
   "cell_type": "code",
   "execution_count": 18,
   "metadata": {},
   "outputs": [],
   "source": [
    "df_train.drop(['seller_id','order_checkout_date','delivery_eta'],axis=1,inplace=True)"
   ]
  },
  {
   "cell_type": "code",
   "execution_count": 19,
   "metadata": {},
   "outputs": [],
   "source": [
    "df_train.set_index('customer_id',inplace=True)"
   ]
  },
  {
   "cell_type": "code",
   "execution_count": 20,
   "metadata": {},
   "outputs": [
    {
     "data": {
      "text/html": [
       "<div>\n",
       "<style scoped>\n",
       "    .dataframe tbody tr th:only-of-type {\n",
       "        vertical-align: middle;\n",
       "    }\n",
       "\n",
       "    .dataframe tbody tr th {\n",
       "        vertical-align: top;\n",
       "    }\n",
       "\n",
       "    .dataframe thead th {\n",
       "        text-align: right;\n",
       "    }\n",
       "</style>\n",
       "<table border=\"1\" class=\"dataframe\">\n",
       "  <thead>\n",
       "    <tr style=\"text-align: right;\">\n",
       "      <th></th>\n",
       "      <th>shipping_charges</th>\n",
       "      <th>product_category_code</th>\n",
       "      <th>X_1</th>\n",
       "      <th>X_2</th>\n",
       "      <th>product_quality_type</th>\n",
       "      <th>product_mass</th>\n",
       "      <th>payment_emi_years(max)</th>\n",
       "      <th>price</th>\n",
       "      <th>order_status</th>\n",
       "      <th>transaction_type</th>\n",
       "      <th>coupon_code</th>\n",
       "      <th>payment_code</th>\n",
       "      <th>Volume</th>\n",
       "      <th>Order_To_Delivery_Time</th>\n",
       "    </tr>\n",
       "    <tr>\n",
       "      <th>customer_id</th>\n",
       "      <th></th>\n",
       "      <th></th>\n",
       "      <th></th>\n",
       "      <th></th>\n",
       "      <th></th>\n",
       "      <th></th>\n",
       "      <th></th>\n",
       "      <th></th>\n",
       "      <th></th>\n",
       "      <th></th>\n",
       "      <th></th>\n",
       "      <th></th>\n",
       "      <th></th>\n",
       "      <th></th>\n",
       "    </tr>\n",
       "  </thead>\n",
       "  <tbody>\n",
       "    <tr>\n",
       "      <th>0a29abf475fb8039d2775913d6f0b6f0</th>\n",
       "      <td>18.12</td>\n",
       "      <td>27.0</td>\n",
       "      <td>58.0</td>\n",
       "      <td>598.0</td>\n",
       "      <td>D</td>\n",
       "      <td>650</td>\n",
       "      <td>1.0</td>\n",
       "      <td>153.75</td>\n",
       "      <td>E</td>\n",
       "      <td>1</td>\n",
       "      <td>CLOTH20</td>\n",
       "      <td>GPAY20</td>\n",
       "      <td>3528</td>\n",
       "      <td>32 days</td>\n",
       "    </tr>\n",
       "    <tr>\n",
       "      <th>903ac1be571f2dc655f9083ffc936ce6</th>\n",
       "      <td>20.08</td>\n",
       "      <td>55.0</td>\n",
       "      <td>59.0</td>\n",
       "      <td>695.0</td>\n",
       "      <td>B</td>\n",
       "      <td>3050</td>\n",
       "      <td>1.0</td>\n",
       "      <td>388.17</td>\n",
       "      <td>E</td>\n",
       "      <td>3</td>\n",
       "      <td>CLOTH20</td>\n",
       "      <td>CITI10</td>\n",
       "      <td>14157</td>\n",
       "      <td>25 days</td>\n",
       "    </tr>\n",
       "    <tr>\n",
       "      <th>bfadadd0d97f4c52f859c1c4d809edf9</th>\n",
       "      <td>2.29</td>\n",
       "      <td>14.0</td>\n",
       "      <td>54.0</td>\n",
       "      <td>245.0</td>\n",
       "      <td>A</td>\n",
       "      <td>1383</td>\n",
       "      <td>1.0</td>\n",
       "      <td>216.72</td>\n",
       "      <td>E</td>\n",
       "      <td>1</td>\n",
       "      <td>CLOTH20</td>\n",
       "      <td>GPAY20</td>\n",
       "      <td>20000</td>\n",
       "      <td>26 days</td>\n",
       "    </tr>\n",
       "    <tr>\n",
       "      <th>6c9e6937792cc04d9bb23451e0ff9f48</th>\n",
       "      <td>1.86</td>\n",
       "      <td>14.0</td>\n",
       "      <td>54.0</td>\n",
       "      <td>245.0</td>\n",
       "      <td>A</td>\n",
       "      <td>1383</td>\n",
       "      <td>1.0</td>\n",
       "      <td>228.95</td>\n",
       "      <td>E</td>\n",
       "      <td>1</td>\n",
       "      <td>CLOTH15</td>\n",
       "      <td>CITI10</td>\n",
       "      <td>20000</td>\n",
       "      <td>25 days</td>\n",
       "    </tr>\n",
       "    <tr>\n",
       "      <th>906e77e04c502baf17ad58162217da39</th>\n",
       "      <td>15.57</td>\n",
       "      <td>14.0</td>\n",
       "      <td>54.0</td>\n",
       "      <td>245.0</td>\n",
       "      <td>A</td>\n",
       "      <td>1383</td>\n",
       "      <td>1.0</td>\n",
       "      <td>243.51</td>\n",
       "      <td>E</td>\n",
       "      <td>2</td>\n",
       "      <td>CLOTH15</td>\n",
       "      <td>CITI10</td>\n",
       "      <td>20000</td>\n",
       "      <td>28 days</td>\n",
       "    </tr>\n",
       "  </tbody>\n",
       "</table>\n",
       "</div>"
      ],
      "text/plain": [
       "                                  shipping_charges product_category_code  \\\n",
       "customer_id                                                                \n",
       "0a29abf475fb8039d2775913d6f0b6f0             18.12                  27.0   \n",
       "903ac1be571f2dc655f9083ffc936ce6             20.08                  55.0   \n",
       "bfadadd0d97f4c52f859c1c4d809edf9              2.29                  14.0   \n",
       "6c9e6937792cc04d9bb23451e0ff9f48              1.86                  14.0   \n",
       "906e77e04c502baf17ad58162217da39             15.57                  14.0   \n",
       "\n",
       "                                   X_1    X_2 product_quality_type  \\\n",
       "customer_id                                                          \n",
       "0a29abf475fb8039d2775913d6f0b6f0  58.0  598.0                    D   \n",
       "903ac1be571f2dc655f9083ffc936ce6  59.0  695.0                    B   \n",
       "bfadadd0d97f4c52f859c1c4d809edf9  54.0  245.0                    A   \n",
       "6c9e6937792cc04d9bb23451e0ff9f48  54.0  245.0                    A   \n",
       "906e77e04c502baf17ad58162217da39  54.0  245.0                    A   \n",
       "\n",
       "                                  product_mass  payment_emi_years(max)  \\\n",
       "customer_id                                                              \n",
       "0a29abf475fb8039d2775913d6f0b6f0           650                     1.0   \n",
       "903ac1be571f2dc655f9083ffc936ce6          3050                     1.0   \n",
       "bfadadd0d97f4c52f859c1c4d809edf9          1383                     1.0   \n",
       "6c9e6937792cc04d9bb23451e0ff9f48          1383                     1.0   \n",
       "906e77e04c502baf17ad58162217da39          1383                     1.0   \n",
       "\n",
       "                                   price order_status transaction_type  \\\n",
       "customer_id                                                              \n",
       "0a29abf475fb8039d2775913d6f0b6f0  153.75            E                1   \n",
       "903ac1be571f2dc655f9083ffc936ce6  388.17            E                3   \n",
       "bfadadd0d97f4c52f859c1c4d809edf9  216.72            E                1   \n",
       "6c9e6937792cc04d9bb23451e0ff9f48  228.95            E                1   \n",
       "906e77e04c502baf17ad58162217da39  243.51            E                2   \n",
       "\n",
       "                                 coupon_code payment_code  Volume  \\\n",
       "customer_id                                                         \n",
       "0a29abf475fb8039d2775913d6f0b6f0     CLOTH20       GPAY20    3528   \n",
       "903ac1be571f2dc655f9083ffc936ce6     CLOTH20       CITI10   14157   \n",
       "bfadadd0d97f4c52f859c1c4d809edf9     CLOTH20       GPAY20   20000   \n",
       "6c9e6937792cc04d9bb23451e0ff9f48     CLOTH15       CITI10   20000   \n",
       "906e77e04c502baf17ad58162217da39     CLOTH15       CITI10   20000   \n",
       "\n",
       "                                 Order_To_Delivery_Time  \n",
       "customer_id                                              \n",
       "0a29abf475fb8039d2775913d6f0b6f0                32 days  \n",
       "903ac1be571f2dc655f9083ffc936ce6                25 days  \n",
       "bfadadd0d97f4c52f859c1c4d809edf9                26 days  \n",
       "6c9e6937792cc04d9bb23451e0ff9f48                25 days  \n",
       "906e77e04c502baf17ad58162217da39                28 days  "
      ]
     },
     "execution_count": 20,
     "metadata": {},
     "output_type": "execute_result"
    }
   ],
   "source": [
    "df_train.head()"
   ]
  },
  {
   "cell_type": "code",
   "execution_count": 21,
   "metadata": {},
   "outputs": [],
   "source": [
    "from sklearn.preprocessing import LabelEncoder          #Assign numerical values to the different categorical variables \n",
    "labelenc=LabelEncoder()\n",
    "df_train.product_quality_type=labelenc.fit_transform(df_train.product_quality_type)\n",
    "df_train.order_status=labelenc.fit_transform(df_train.order_status)"
   ]
  },
  {
   "cell_type": "code",
   "execution_count": 22,
   "metadata": {},
   "outputs": [],
   "source": [
    "#Label encoding Target variables\n",
    "labelenc1=LabelEncoder()\n",
    "labelenc2=LabelEncoder()\n",
    "df_train.payment_code=labelenc1.fit_transform(df_train.payment_code)\n",
    "df_train.coupon_code=labelenc2.fit_transform(df_train.coupon_code)"
   ]
  },
  {
   "cell_type": "code",
   "execution_count": 23,
   "metadata": {},
   "outputs": [],
   "source": [
    "df_train.Order_To_Delivery_Time=df_train.Order_To_Delivery_Time.dt.days"
   ]
  },
  {
   "cell_type": "code",
   "execution_count": 24,
   "metadata": {},
   "outputs": [
    {
     "data": {
      "text/html": [
       "<div>\n",
       "<style scoped>\n",
       "    .dataframe tbody tr th:only-of-type {\n",
       "        vertical-align: middle;\n",
       "    }\n",
       "\n",
       "    .dataframe tbody tr th {\n",
       "        vertical-align: top;\n",
       "    }\n",
       "\n",
       "    .dataframe thead th {\n",
       "        text-align: right;\n",
       "    }\n",
       "</style>\n",
       "<table border=\"1\" class=\"dataframe\">\n",
       "  <thead>\n",
       "    <tr style=\"text-align: right;\">\n",
       "      <th></th>\n",
       "      <th>shipping_charges</th>\n",
       "      <th>product_category_code</th>\n",
       "      <th>X_1</th>\n",
       "      <th>X_2</th>\n",
       "      <th>product_quality_type</th>\n",
       "      <th>product_mass</th>\n",
       "      <th>payment_emi_years(max)</th>\n",
       "      <th>price</th>\n",
       "      <th>order_status</th>\n",
       "      <th>transaction_type</th>\n",
       "      <th>coupon_code</th>\n",
       "      <th>payment_code</th>\n",
       "      <th>Volume</th>\n",
       "      <th>Order_To_Delivery_Time</th>\n",
       "    </tr>\n",
       "    <tr>\n",
       "      <th>customer_id</th>\n",
       "      <th></th>\n",
       "      <th></th>\n",
       "      <th></th>\n",
       "      <th></th>\n",
       "      <th></th>\n",
       "      <th></th>\n",
       "      <th></th>\n",
       "      <th></th>\n",
       "      <th></th>\n",
       "      <th></th>\n",
       "      <th></th>\n",
       "      <th></th>\n",
       "      <th></th>\n",
       "      <th></th>\n",
       "    </tr>\n",
       "  </thead>\n",
       "  <tbody>\n",
       "    <tr>\n",
       "      <th>0a29abf475fb8039d2775913d6f0b6f0</th>\n",
       "      <td>18.12</td>\n",
       "      <td>27.0</td>\n",
       "      <td>58.0</td>\n",
       "      <td>598.0</td>\n",
       "      <td>3</td>\n",
       "      <td>650</td>\n",
       "      <td>1.0</td>\n",
       "      <td>153.75</td>\n",
       "      <td>1</td>\n",
       "      <td>1</td>\n",
       "      <td>1</td>\n",
       "      <td>2</td>\n",
       "      <td>3528</td>\n",
       "      <td>32</td>\n",
       "    </tr>\n",
       "    <tr>\n",
       "      <th>903ac1be571f2dc655f9083ffc936ce6</th>\n",
       "      <td>20.08</td>\n",
       "      <td>55.0</td>\n",
       "      <td>59.0</td>\n",
       "      <td>695.0</td>\n",
       "      <td>1</td>\n",
       "      <td>3050</td>\n",
       "      <td>1.0</td>\n",
       "      <td>388.17</td>\n",
       "      <td>1</td>\n",
       "      <td>3</td>\n",
       "      <td>1</td>\n",
       "      <td>1</td>\n",
       "      <td>14157</td>\n",
       "      <td>25</td>\n",
       "    </tr>\n",
       "    <tr>\n",
       "      <th>bfadadd0d97f4c52f859c1c4d809edf9</th>\n",
       "      <td>2.29</td>\n",
       "      <td>14.0</td>\n",
       "      <td>54.0</td>\n",
       "      <td>245.0</td>\n",
       "      <td>0</td>\n",
       "      <td>1383</td>\n",
       "      <td>1.0</td>\n",
       "      <td>216.72</td>\n",
       "      <td>1</td>\n",
       "      <td>1</td>\n",
       "      <td>1</td>\n",
       "      <td>2</td>\n",
       "      <td>20000</td>\n",
       "      <td>26</td>\n",
       "    </tr>\n",
       "    <tr>\n",
       "      <th>6c9e6937792cc04d9bb23451e0ff9f48</th>\n",
       "      <td>1.86</td>\n",
       "      <td>14.0</td>\n",
       "      <td>54.0</td>\n",
       "      <td>245.0</td>\n",
       "      <td>0</td>\n",
       "      <td>1383</td>\n",
       "      <td>1.0</td>\n",
       "      <td>228.95</td>\n",
       "      <td>1</td>\n",
       "      <td>1</td>\n",
       "      <td>0</td>\n",
       "      <td>1</td>\n",
       "      <td>20000</td>\n",
       "      <td>25</td>\n",
       "    </tr>\n",
       "    <tr>\n",
       "      <th>906e77e04c502baf17ad58162217da39</th>\n",
       "      <td>15.57</td>\n",
       "      <td>14.0</td>\n",
       "      <td>54.0</td>\n",
       "      <td>245.0</td>\n",
       "      <td>0</td>\n",
       "      <td>1383</td>\n",
       "      <td>1.0</td>\n",
       "      <td>243.51</td>\n",
       "      <td>1</td>\n",
       "      <td>2</td>\n",
       "      <td>0</td>\n",
       "      <td>1</td>\n",
       "      <td>20000</td>\n",
       "      <td>28</td>\n",
       "    </tr>\n",
       "  </tbody>\n",
       "</table>\n",
       "</div>"
      ],
      "text/plain": [
       "                                  shipping_charges product_category_code  \\\n",
       "customer_id                                                                \n",
       "0a29abf475fb8039d2775913d6f0b6f0             18.12                  27.0   \n",
       "903ac1be571f2dc655f9083ffc936ce6             20.08                  55.0   \n",
       "bfadadd0d97f4c52f859c1c4d809edf9              2.29                  14.0   \n",
       "6c9e6937792cc04d9bb23451e0ff9f48              1.86                  14.0   \n",
       "906e77e04c502baf17ad58162217da39             15.57                  14.0   \n",
       "\n",
       "                                   X_1    X_2  product_quality_type  \\\n",
       "customer_id                                                           \n",
       "0a29abf475fb8039d2775913d6f0b6f0  58.0  598.0                     3   \n",
       "903ac1be571f2dc655f9083ffc936ce6  59.0  695.0                     1   \n",
       "bfadadd0d97f4c52f859c1c4d809edf9  54.0  245.0                     0   \n",
       "6c9e6937792cc04d9bb23451e0ff9f48  54.0  245.0                     0   \n",
       "906e77e04c502baf17ad58162217da39  54.0  245.0                     0   \n",
       "\n",
       "                                  product_mass  payment_emi_years(max)  \\\n",
       "customer_id                                                              \n",
       "0a29abf475fb8039d2775913d6f0b6f0           650                     1.0   \n",
       "903ac1be571f2dc655f9083ffc936ce6          3050                     1.0   \n",
       "bfadadd0d97f4c52f859c1c4d809edf9          1383                     1.0   \n",
       "6c9e6937792cc04d9bb23451e0ff9f48          1383                     1.0   \n",
       "906e77e04c502baf17ad58162217da39          1383                     1.0   \n",
       "\n",
       "                                   price  order_status transaction_type  \\\n",
       "customer_id                                                               \n",
       "0a29abf475fb8039d2775913d6f0b6f0  153.75             1                1   \n",
       "903ac1be571f2dc655f9083ffc936ce6  388.17             1                3   \n",
       "bfadadd0d97f4c52f859c1c4d809edf9  216.72             1                1   \n",
       "6c9e6937792cc04d9bb23451e0ff9f48  228.95             1                1   \n",
       "906e77e04c502baf17ad58162217da39  243.51             1                2   \n",
       "\n",
       "                                  coupon_code  payment_code  Volume  \\\n",
       "customer_id                                                           \n",
       "0a29abf475fb8039d2775913d6f0b6f0            1             2    3528   \n",
       "903ac1be571f2dc655f9083ffc936ce6            1             1   14157   \n",
       "bfadadd0d97f4c52f859c1c4d809edf9            1             2   20000   \n",
       "6c9e6937792cc04d9bb23451e0ff9f48            0             1   20000   \n",
       "906e77e04c502baf17ad58162217da39            0             1   20000   \n",
       "\n",
       "                                  Order_To_Delivery_Time  \n",
       "customer_id                                               \n",
       "0a29abf475fb8039d2775913d6f0b6f0                      32  \n",
       "903ac1be571f2dc655f9083ffc936ce6                      25  \n",
       "bfadadd0d97f4c52f859c1c4d809edf9                      26  \n",
       "6c9e6937792cc04d9bb23451e0ff9f48                      25  \n",
       "906e77e04c502baf17ad58162217da39                      28  "
      ]
     },
     "execution_count": 24,
     "metadata": {},
     "output_type": "execute_result"
    }
   ],
   "source": [
    "df_train.head()"
   ]
  },
  {
   "cell_type": "code",
   "execution_count": 25,
   "metadata": {},
   "outputs": [],
   "source": [
    "from sklearn.model_selection import train_test_split"
   ]
  },
  {
   "cell_type": "code",
   "execution_count": 26,
   "metadata": {},
   "outputs": [],
   "source": [
    "from sklearn.ensemble import RandomForestClassifier\n",
    "rf1=RandomForestClassifier(n_estimators=1000,random_state=42)\n",
    "rf2=RandomForestClassifier(n_estimators=200,random_state=42, max_depth = 10)\n",
    "\n",
    "X=df_train.drop(['payment_code','coupon_code'],axis=1)                     #All the independent variables \n",
    "Y1=df_train.payment_code                                                   #Target variable 1\n",
    "Y2=df_train.coupon_code                                                    #Target variable 2"
   ]
  },
  {
   "cell_type": "code",
   "execution_count": 27,
   "metadata": {},
   "outputs": [],
   "source": [
    "X1_train, X1_test, y1_train, y1_test = train_test_split(X, Y1, test_size=0.1, random_state=42)\n",
    "X2_train, X2_test, y2_train, y2_test = train_test_split(X, Y2, test_size=0.1, random_state=42)"
   ]
  },
  {
   "cell_type": "code",
   "execution_count": 28,
   "metadata": {},
   "outputs": [
    {
     "data": {
      "text/plain": [
       "RandomForestClassifier(n_estimators=1000, random_state=42)"
      ]
     },
     "execution_count": 28,
     "metadata": {},
     "output_type": "execute_result"
    }
   ],
   "source": [
    "rf1.fit(X1_train,y1_train)"
   ]
  },
  {
   "cell_type": "code",
   "execution_count": 29,
   "metadata": {},
   "outputs": [
    {
     "data": {
      "text/plain": [
       "(array([0.13174994, 0.03277512, 0.04065692, 0.04698861, 0.01932766,\n",
       "        0.04326356, 0.03988126, 0.15520749, 0.00473406, 0.21050968,\n",
       "        0.04337202, 0.23153368]),\n",
       " Index(['shipping_charges', 'product_category_code', 'X_1', 'X_2',\n",
       "        'product_quality_type', 'product_mass', 'payment_emi_years(max)',\n",
       "        'price', 'order_status', 'transaction_type', 'Volume',\n",
       "        'Order_To_Delivery_Time'],\n",
       "       dtype='object'))"
      ]
     },
     "execution_count": 29,
     "metadata": {},
     "output_type": "execute_result"
    }
   ],
   "source": [
    "rf1.feature_importances_,X1_train.columns        #Importance of the different features"
   ]
  },
  {
   "cell_type": "code",
   "execution_count": 30,
   "metadata": {},
   "outputs": [],
   "source": [
    "y1_test_pred=rf1.predict(X1_test)"
   ]
  },
  {
   "cell_type": "code",
   "execution_count": 31,
   "metadata": {},
   "outputs": [],
   "source": [
    "from sklearn.metrics import recall_score"
   ]
  },
  {
   "cell_type": "code",
   "execution_count": 32,
   "metadata": {},
   "outputs": [
    {
     "data": {
      "text/plain": [
       "0.7358490566037735"
      ]
     },
     "execution_count": 32,
     "metadata": {},
     "output_type": "execute_result"
    }
   ],
   "source": [
    "recall_score(y1_test,y1_test_pred,average='weighted')"
   ]
  },
  {
   "cell_type": "code",
   "execution_count": 33,
   "metadata": {},
   "outputs": [
    {
     "data": {
      "text/plain": [
       "RandomForestClassifier(max_depth=10, n_estimators=200, random_state=42)"
      ]
     },
     "execution_count": 33,
     "metadata": {},
     "output_type": "execute_result"
    }
   ],
   "source": [
    "rf2.fit(X2_train,y2_train)"
   ]
  },
  {
   "cell_type": "code",
   "execution_count": 34,
   "metadata": {},
   "outputs": [
    {
     "data": {
      "text/plain": [
       "(array([0.10280671, 0.05680165, 0.06341651, 0.07273569, 0.0289975 ,\n",
       "        0.09348208, 0.00431666, 0.39800245, 0.00166242, 0.03642641,\n",
       "        0.08779455, 0.05355737]),\n",
       " Index(['shipping_charges', 'product_category_code', 'X_1', 'X_2',\n",
       "        'product_quality_type', 'product_mass', 'payment_emi_years(max)',\n",
       "        'price', 'order_status', 'transaction_type', 'Volume',\n",
       "        'Order_To_Delivery_Time'],\n",
       "       dtype='object'))"
      ]
     },
     "execution_count": 34,
     "metadata": {},
     "output_type": "execute_result"
    }
   ],
   "source": [
    "rf2.feature_importances_,X1_train.columns"
   ]
  },
  {
   "cell_type": "code",
   "execution_count": 35,
   "metadata": {},
   "outputs": [],
   "source": [
    "y2_test_pred=rf2.predict(X2_test)"
   ]
  },
  {
   "cell_type": "code",
   "execution_count": 36,
   "metadata": {},
   "outputs": [
    {
     "data": {
      "text/plain": [
       "0.610062893081761"
      ]
     },
     "execution_count": 36,
     "metadata": {},
     "output_type": "execute_result"
    }
   ],
   "source": [
    "recall_score(y2_test,y2_test_pred,average='weighted')"
   ]
  },
  {
   "cell_type": "code",
   "execution_count": 37,
   "metadata": {},
   "outputs": [],
   "source": [
    "df_test=pd.read_csv(r'C:\\Users\\Bidisha\\Desktop\\hackathon\\Final\\Test.csv')"
   ]
  },
  {
   "cell_type": "code",
   "execution_count": 38,
   "metadata": {},
   "outputs": [
    {
     "data": {
      "text/html": [
       "<div>\n",
       "<style scoped>\n",
       "    .dataframe tbody tr th:only-of-type {\n",
       "        vertical-align: middle;\n",
       "    }\n",
       "\n",
       "    .dataframe tbody tr th {\n",
       "        vertical-align: top;\n",
       "    }\n",
       "\n",
       "    .dataframe thead th {\n",
       "        text-align: right;\n",
       "    }\n",
       "</style>\n",
       "<table border=\"1\" class=\"dataframe\">\n",
       "  <thead>\n",
       "    <tr style=\"text-align: right;\">\n",
       "      <th></th>\n",
       "      <th>customer_id</th>\n",
       "      <th>seller_id</th>\n",
       "      <th>order_checkout_date</th>\n",
       "      <th>delivery_eta</th>\n",
       "      <th>shipping_charges</th>\n",
       "      <th>product_category_code</th>\n",
       "      <th>X_1</th>\n",
       "      <th>X_2</th>\n",
       "      <th>product_quality_type</th>\n",
       "      <th>product_mass</th>\n",
       "      <th>product_length</th>\n",
       "      <th>product_height</th>\n",
       "      <th>product_breadth</th>\n",
       "      <th>payment_emi_years(max)</th>\n",
       "      <th>price</th>\n",
       "      <th>order_status</th>\n",
       "      <th>transaction_type</th>\n",
       "    </tr>\n",
       "  </thead>\n",
       "  <tbody>\n",
       "    <tr>\n",
       "      <th>0</th>\n",
       "      <td>d6b757c9478ed7366a42b6f09dce476f</td>\n",
       "      <td>d93919c944be9cff128f6c9cb899eacb</td>\n",
       "      <td>2017-12-20 23:34:29</td>\n",
       "      <td>2018-01-15 00:00:00</td>\n",
       "      <td>18.38</td>\n",
       "      <td>7.0</td>\n",
       "      <td>39.0</td>\n",
       "      <td>749.0</td>\n",
       "      <td>A</td>\n",
       "      <td>4450</td>\n",
       "      <td>50</td>\n",
       "      <td>8</td>\n",
       "      <td>45</td>\n",
       "      <td>1.0</td>\n",
       "      <td>88.28</td>\n",
       "      <td>E</td>\n",
       "      <td>1</td>\n",
       "    </tr>\n",
       "    <tr>\n",
       "      <th>1</th>\n",
       "      <td>9c224bc2354a4e8ecbd390cba06b5d07</td>\n",
       "      <td>d93919c944be9cff128f6c9cb899eacb</td>\n",
       "      <td>2018-01-07 16:38:24</td>\n",
       "      <td>2018-02-23 00:00:00</td>\n",
       "      <td>50.15</td>\n",
       "      <td>7.0</td>\n",
       "      <td>39.0</td>\n",
       "      <td>749.0</td>\n",
       "      <td>A</td>\n",
       "      <td>4450</td>\n",
       "      <td>50</td>\n",
       "      <td>8</td>\n",
       "      <td>45</td>\n",
       "      <td>1.0</td>\n",
       "      <td>120.05</td>\n",
       "      <td>E</td>\n",
       "      <td>2</td>\n",
       "    </tr>\n",
       "    <tr>\n",
       "      <th>2</th>\n",
       "      <td>5551ca919431fc78c6bb85ee6f57c904</td>\n",
       "      <td>d93919c944be9cff128f6c9cb899eacb</td>\n",
       "      <td>2018-01-06 13:23:46</td>\n",
       "      <td>2018-02-01 00:00:00</td>\n",
       "      <td>18.38</td>\n",
       "      <td>7.0</td>\n",
       "      <td>39.0</td>\n",
       "      <td>749.0</td>\n",
       "      <td>A</td>\n",
       "      <td>4450</td>\n",
       "      <td>50</td>\n",
       "      <td>8</td>\n",
       "      <td>45</td>\n",
       "      <td>1.0</td>\n",
       "      <td>88.28</td>\n",
       "      <td>E</td>\n",
       "      <td>1</td>\n",
       "    </tr>\n",
       "    <tr>\n",
       "      <th>3</th>\n",
       "      <td>77b4e2a15303756cc2a3b4a5d2dd3460</td>\n",
       "      <td>d93919c944be9cff128f6c9cb899eacb</td>\n",
       "      <td>2018-02-07 23:55:11</td>\n",
       "      <td>2018-03-19 00:00:00</td>\n",
       "      <td>39.55</td>\n",
       "      <td>7.0</td>\n",
       "      <td>39.0</td>\n",
       "      <td>749.0</td>\n",
       "      <td>A</td>\n",
       "      <td>4450</td>\n",
       "      <td>50</td>\n",
       "      <td>8</td>\n",
       "      <td>45</td>\n",
       "      <td>1.0</td>\n",
       "      <td>119.45</td>\n",
       "      <td>E</td>\n",
       "      <td>2</td>\n",
       "    </tr>\n",
       "    <tr>\n",
       "      <th>4</th>\n",
       "      <td>6b9c954ac26835161d0f34df89ca1175</td>\n",
       "      <td>23613d49c3ac2bd302259e55c06c050c</td>\n",
       "      <td>2018-02-04 12:11:39</td>\n",
       "      <td>2018-03-01 00:00:00</td>\n",
       "      <td>11.85</td>\n",
       "      <td>55.0</td>\n",
       "      <td>39.0</td>\n",
       "      <td>161.0</td>\n",
       "      <td>C</td>\n",
       "      <td>200</td>\n",
       "      <td>20</td>\n",
       "      <td>20</td>\n",
       "      <td>20</td>\n",
       "      <td>1.0</td>\n",
       "      <td>45.50</td>\n",
       "      <td>E</td>\n",
       "      <td>2</td>\n",
       "    </tr>\n",
       "  </tbody>\n",
       "</table>\n",
       "</div>"
      ],
      "text/plain": [
       "                        customer_id                         seller_id  \\\n",
       "0  d6b757c9478ed7366a42b6f09dce476f  d93919c944be9cff128f6c9cb899eacb   \n",
       "1  9c224bc2354a4e8ecbd390cba06b5d07  d93919c944be9cff128f6c9cb899eacb   \n",
       "2  5551ca919431fc78c6bb85ee6f57c904  d93919c944be9cff128f6c9cb899eacb   \n",
       "3  77b4e2a15303756cc2a3b4a5d2dd3460  d93919c944be9cff128f6c9cb899eacb   \n",
       "4  6b9c954ac26835161d0f34df89ca1175  23613d49c3ac2bd302259e55c06c050c   \n",
       "\n",
       "   order_checkout_date         delivery_eta  shipping_charges  \\\n",
       "0  2017-12-20 23:34:29  2018-01-15 00:00:00             18.38   \n",
       "1  2018-01-07 16:38:24  2018-02-23 00:00:00             50.15   \n",
       "2  2018-01-06 13:23:46  2018-02-01 00:00:00             18.38   \n",
       "3  2018-02-07 23:55:11  2018-03-19 00:00:00             39.55   \n",
       "4  2018-02-04 12:11:39  2018-03-01 00:00:00             11.85   \n",
       "\n",
       "   product_category_code   X_1    X_2 product_quality_type  product_mass  \\\n",
       "0                    7.0  39.0  749.0                    A          4450   \n",
       "1                    7.0  39.0  749.0                    A          4450   \n",
       "2                    7.0  39.0  749.0                    A          4450   \n",
       "3                    7.0  39.0  749.0                    A          4450   \n",
       "4                   55.0  39.0  161.0                    C           200   \n",
       "\n",
       "   product_length  product_height  product_breadth  payment_emi_years(max)  \\\n",
       "0              50               8               45                     1.0   \n",
       "1              50               8               45                     1.0   \n",
       "2              50               8               45                     1.0   \n",
       "3              50               8               45                     1.0   \n",
       "4              20              20               20                     1.0   \n",
       "\n",
       "    price order_status  transaction_type  \n",
       "0   88.28            E                 1  \n",
       "1  120.05            E                 2  \n",
       "2   88.28            E                 1  \n",
       "3  119.45            E                 2  \n",
       "4   45.50            E                 2  "
      ]
     },
     "execution_count": 38,
     "metadata": {},
     "output_type": "execute_result"
    }
   ],
   "source": [
    "df_test.head()"
   ]
  },
  {
   "cell_type": "code",
   "execution_count": 39,
   "metadata": {},
   "outputs": [
    {
     "data": {
      "text/plain": [
       "customer_id               0.000000\n",
       "seller_id                 0.000000\n",
       "order_checkout_date       0.000000\n",
       "delivery_eta              0.000000\n",
       "shipping_charges          0.385976\n",
       "product_category_code     0.257317\n",
       "X_1                       1.350917\n",
       "X_2                       1.350917\n",
       "product_quality_type      1.350917\n",
       "product_mass              0.000000\n",
       "product_length            0.000000\n",
       "product_height            0.000000\n",
       "product_breadth           0.000000\n",
       "payment_emi_years(max)    0.225153\n",
       "price                     0.241235\n",
       "order_status              0.000000\n",
       "transaction_type          0.000000\n",
       "dtype: float64"
      ]
     },
     "execution_count": 39,
     "metadata": {},
     "output_type": "execute_result"
    }
   ],
   "source": [
    "(df_test.isnull().sum()/df_test.shape[0])*100"
   ]
  },
  {
   "cell_type": "code",
   "execution_count": 40,
   "metadata": {},
   "outputs": [],
   "source": [
    "val_X1=np.mean(df_test.X_1)\n",
    "val_X2=np.mean(df_test.X_2)\n",
    "df_test.X_1.fillna(val_X1,axis=0,inplace=True)\n",
    "df_test.X_2.fillna(val_X2,axis=0,inplace=True)\n",
    "df_test.fillna(method='ffill',axis=0,inplace=True)"
   ]
  },
  {
   "cell_type": "code",
   "execution_count": 41,
   "metadata": {},
   "outputs": [],
   "source": [
    "df_test[['product_category_code','transaction_type']]=df_test[['product_category_code','transaction_type']].astype('str')"
   ]
  },
  {
   "cell_type": "code",
   "execution_count": 42,
   "metadata": {},
   "outputs": [],
   "source": [
    "from sklearn.preprocessing import LabelEncoder\n",
    "labelenc=LabelEncoder()\n",
    "df_test.product_quality_type=labelenc.fit_transform(df_test.product_quality_type)\n",
    "df_test.order_status=labelenc.fit_transform(df_test.order_status)"
   ]
  },
  {
   "cell_type": "code",
   "execution_count": 43,
   "metadata": {},
   "outputs": [],
   "source": [
    "df_test['Volume']=df_test.product_breadth*df_test.product_height*df_test.product_length\n",
    "df_test.drop(['product_breadth','product_height','product_length'],axis=1,inplace=True)"
   ]
  },
  {
   "cell_type": "code",
   "execution_count": 44,
   "metadata": {},
   "outputs": [],
   "source": [
    "df_test.order_checkout_date=pd.to_datetime(df_test.order_checkout_date)\n",
    "df_test.delivery_eta=pd.to_datetime(df_test.delivery_eta)\n",
    "df_test['Order_To_Delivery_Time']=df_test.delivery_eta.dt.date-df_test.order_checkout_date.dt.date\n",
    "df_test.drop(['seller_id','order_checkout_date','delivery_eta'],axis=1,inplace=True)\n"
   ]
  },
  {
   "cell_type": "code",
   "execution_count": 45,
   "metadata": {},
   "outputs": [],
   "source": [
    "df_test.set_index('customer_id',inplace=True)"
   ]
  },
  {
   "cell_type": "code",
   "execution_count": 46,
   "metadata": {},
   "outputs": [],
   "source": [
    "df_test.Order_To_Delivery_Time=df_test.Order_To_Delivery_Time.dt.days"
   ]
  },
  {
   "cell_type": "code",
   "execution_count": 47,
   "metadata": {},
   "outputs": [],
   "source": [
    "y1_pred=pd.Series(rf1.predict(df_test))                          #Predicting payment code "
   ]
  },
  {
   "cell_type": "code",
   "execution_count": 48,
   "metadata": {},
   "outputs": [],
   "source": [
    "y2_pred=pd.Series(rf2.predict(df_test))                         #Predicting coupon code"
   ]
  },
  {
   "cell_type": "code",
   "execution_count": 49,
   "metadata": {},
   "outputs": [],
   "source": [
    "df_test['Coupon_code']=y2_pred.values\n",
    "df_test['payment_code']=y1_pred.values"
   ]
  },
  {
   "cell_type": "code",
   "execution_count": 50,
   "metadata": {},
   "outputs": [],
   "source": [
    "df_test['payment_code_real']=labelenc1.inverse_transform(df_test.payment_code)\n",
    "df_test['coupon_code_real']=labelenc2.inverse_transform(df_test.Coupon_code)"
   ]
  },
  {
   "cell_type": "code",
   "execution_count": 51,
   "metadata": {},
   "outputs": [],
   "source": [
    "final_file=df_test[['payment_code_real','coupon_code_real']]"
   ]
  },
  {
   "cell_type": "code",
   "execution_count": 52,
   "metadata": {},
   "outputs": [],
   "source": [
    "final_file.to_csv('Bidisha.csv')"
   ]
  },
  {
   "cell_type": "code",
   "execution_count": null,
   "metadata": {},
   "outputs": [],
   "source": []
  }
 ],
 "metadata": {
  "kernelspec": {
   "display_name": "Python 3",
   "language": "python",
   "name": "python3"
  },
  "language_info": {
   "codemirror_mode": {
    "name": "ipython",
    "version": 3
   },
   "file_extension": ".py",
   "mimetype": "text/x-python",
   "name": "python",
   "nbconvert_exporter": "python",
   "pygments_lexer": "ipython3",
   "version": "3.8.3"
  }
 },
 "nbformat": 4,
 "nbformat_minor": 4
}
